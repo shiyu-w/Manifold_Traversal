{
 "cells": [
  {
   "cell_type": "code",
   "execution_count": 1,
   "id": "255045c9",
   "metadata": {},
   "outputs": [],
   "source": [
    "import numpy as np"
   ]
  },
  {
   "cell_type": "code",
   "execution_count": 20,
   "id": "d99609e0",
   "metadata": {},
   "outputs": [],
   "source": [
    "N_train = 100000\n",
    "batch_size = 4000"
   ]
  },
  {
   "cell_type": "code",
   "execution_count": 21,
   "id": "126a2012",
   "metadata": {},
   "outputs": [],
   "source": [
    "num_batches = N_train // batch_size  + ((N_train % batch_size) != 0)"
   ]
  },
  {
   "cell_type": "code",
   "execution_count": 24,
   "id": "2eba5c49",
   "metadata": {},
   "outputs": [
    {
     "data": {
      "text/plain": [
       "False"
      ]
     },
     "execution_count": 24,
     "metadata": {},
     "output_type": "execute_result"
    }
   ],
   "source": [
    "((N_train % batch_size) != 0)"
   ]
  },
  {
   "cell_type": "code",
   "execution_count": 22,
   "id": "e38cd96a",
   "metadata": {},
   "outputs": [
    {
     "data": {
      "text/plain": [
       "25"
      ]
     },
     "execution_count": 22,
     "metadata": {},
     "output_type": "execute_result"
    }
   ],
   "source": [
    "num_batches"
   ]
  },
  {
   "cell_type": "code",
   "execution_count": 2,
   "id": "6c12e55d",
   "metadata": {},
   "outputs": [
    {
     "data": {
      "text/plain": [
       "390"
      ]
     },
     "execution_count": 2,
     "metadata": {},
     "output_type": "execute_result"
    }
   ],
   "source": [
    "100000 // 256"
   ]
  },
  {
   "cell_type": "code",
   "execution_count": 23,
   "id": "4c38cacb",
   "metadata": {},
   "outputs": [
    {
     "data": {
      "text/plain": [
       "25"
      ]
     },
     "execution_count": 23,
     "metadata": {},
     "output_type": "execute_result"
    }
   ],
   "source": [
    "100000 // 4000"
   ]
  },
  {
   "cell_type": "code",
   "execution_count": 8,
   "id": "1b1f48d3",
   "metadata": {},
   "outputs": [
    {
     "data": {
      "text/plain": [
       "0"
      ]
     },
     "execution_count": 8,
     "metadata": {},
     "output_type": "execute_result"
    }
   ],
   "source": [
    "100000 % 4000"
   ]
  },
  {
   "cell_type": "code",
   "execution_count": 6,
   "id": "4c74ea01",
   "metadata": {},
   "outputs": [
    {
     "data": {
      "text/plain": [
       "99840"
      ]
     },
     "execution_count": 6,
     "metadata": {},
     "output_type": "execute_result"
    }
   ],
   "source": [
    "390 * 256"
   ]
  },
  {
   "cell_type": "code",
   "execution_count": 4,
   "id": "4187c6da",
   "metadata": {},
   "outputs": [
    {
     "data": {
      "text/plain": [
       "160"
      ]
     },
     "execution_count": 4,
     "metadata": {},
     "output_type": "execute_result"
    }
   ],
   "source": [
    "100000 % 256"
   ]
  },
  {
   "cell_type": "code",
   "execution_count": 2,
   "id": "06589c91",
   "metadata": {},
   "outputs": [
    {
     "name": "stdout",
     "output_type": "stream",
     "text": [
      "0.3745401188473625\n",
      "0.9507143064099162\n",
      "[0.73199394 0.59865848 0.15601864]\n"
     ]
    }
   ],
   "source": [
    "np.random.seed(42)\n",
    "print(np.random.rand())    # 0.3745401188473625\n",
    "\n",
    "\n",
    "print(np.random.rand())    # 0.3745401188473625, same as above\n",
    "print(np.random.rand(3))   # [0.95071431, 0.73199394, 0.59865848]\n"
   ]
  },
  {
   "cell_type": "code",
   "execution_count": 3,
   "id": "379918ff",
   "metadata": {},
   "outputs": [
    {
     "name": "stdout",
     "output_type": "stream",
     "text": [
      "0.3745401188473625\n",
      "0.3745401188473625\n",
      "[0.95071431 0.73199394 0.59865848]\n"
     ]
    }
   ],
   "source": [
    "np.random.seed(42)\n",
    "print(np.random.rand())    # 0.3745401188473625\n",
    "\n",
    "np.random.seed(42)         # ← state reset here\n",
    "print(np.random.rand())    # 0.3745401188473625, same as above\n",
    "print(np.random.rand(3))   # [0.95071431, 0.73199394, 0.59865848]\n"
   ]
  }
 ],
 "metadata": {
  "kernelspec": {
   "display_name": "MT",
   "language": "python",
   "name": "python3"
  },
  "language_info": {
   "codemirror_mode": {
    "name": "ipython",
    "version": 3
   },
   "file_extension": ".py",
   "mimetype": "text/x-python",
   "name": "python",
   "nbconvert_exporter": "python",
   "pygments_lexer": "ipython3",
   "version": "3.9.21"
  }
 },
 "nbformat": 4,
 "nbformat_minor": 5
}
